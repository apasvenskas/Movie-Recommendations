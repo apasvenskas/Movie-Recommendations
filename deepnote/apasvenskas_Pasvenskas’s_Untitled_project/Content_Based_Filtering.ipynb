{
  "cells": [
    {
      "cell_type": "markdown",
      "metadata": {
        "formattedRanges": [],
        "cell_id": "945b2eb4b055494e9e8562dc01ccf13d",
        "deepnote_cell_type": "text-cell-h1"
      },
      "source": "# Content Based Filtering",
      "block_group": "ad8e49ac59ac4f9c8f8b5bf3af484bc7"
    },
    {
      "cell_type": "code",
      "metadata": {
        "source_hash": "482c863d",
        "execution_start": 1751513578344,
        "execution_millis": 187,
        "execution_context_id": "67f62dd4-d2be-4a64-92cf-56d9a31ee3d2",
        "cell_id": "39d3992a4e9346df800f60779378edbb",
        "deepnote_cell_type": "code"
      },
      "source": "import pandas\nmovies = pandas.read_csv('movies_small.csv', sep=';')",
      "block_group": "39d3992a4e9346df800f60779378edbb",
      "execution_count": 1,
      "outputs": [],
      "outputs_reference": null,
      "content_dependencies": null
    },
    {
      "cell_type": "code",
      "metadata": {
        "source_hash": "c2fe4ca",
        "execution_start": 1751513578570,
        "execution_millis": 2,
        "execution_context_id": "67f62dd4-d2be-4a64-92cf-56d9a31ee3d2",
        "cell_id": "0371cee72fa3424985f3a33916cd3e22",
        "deepnote_cell_type": "code"
      },
      "source": "movies",
      "block_group": "db7b0d0d78a1413da47da7a7876bd97e",
      "execution_count": 2,
      "outputs": [],
      "outputs_reference": null,
      "content_dependencies": null
    },
    {
      "cell_type": "code",
      "metadata": {
        "source_hash": "b0d9d1a8",
        "execution_start": 1751513578635,
        "execution_millis": 453,
        "execution_context_id": "67f62dd4-d2be-4a64-92cf-56d9a31ee3d2",
        "cell_id": "3c4cdc01133a488a84fa7d33f976d07e",
        "deepnote_cell_type": "code"
      },
      "source": "from sklearn.feature_extraction.text import TfidfVectorizer\ntfidf = TfidfVectorizer(stop_words='english')\nmovies['overview'] = movies['overview'].fillna('')",
      "block_group": "9166af6bd76f4828a094895018ff0e1e",
      "execution_count": 3,
      "outputs": [],
      "outputs_reference": null,
      "content_dependencies": null
    },
    {
      "cell_type": "code",
      "metadata": {
        "source_hash": "e94da91b",
        "execution_start": 1751513579144,
        "execution_millis": 1,
        "execution_context_id": "67f62dd4-d2be-4a64-92cf-56d9a31ee3d2",
        "cell_id": "8aa7283db27c4251b9e69c7127729ea5",
        "deepnote_cell_type": "code"
      },
      "source": "tfidf_matrix = tfidf.fit_transform(movies['overview'])\n\ntfidf_matrix",
      "block_group": "444013f566dd461584ba5624e6fa71a6",
      "execution_count": 4,
      "outputs": [],
      "outputs_reference": null,
      "content_dependencies": null
    },
    {
      "cell_type": "code",
      "metadata": {
        "source_hash": "bfbe0328",
        "execution_start": 1751513579204,
        "execution_millis": 100,
        "execution_context_id": "67f62dd4-d2be-4a64-92cf-56d9a31ee3d2",
        "cell_id": "007efff564d64b0490d41ccf757fabb8",
        "deepnote_cell_type": "code"
      },
      "source": "pandas.DataFrame(tfidf_matrix.todense(), columns=tfidf.get_feature_names())",
      "block_group": "d0258c0afa594e819420da7db3a31452",
      "execution_count": 5,
      "outputs": [],
      "outputs_reference": null,
      "content_dependencies": null
    },
    {
      "cell_type": "code",
      "metadata": {
        "source_hash": "4ab80e7",
        "execution_start": 1751513579354,
        "execution_millis": 2,
        "execution_context_id": "67f62dd4-d2be-4a64-92cf-56d9a31ee3d2",
        "cell_id": "a371b1a1e0564178b497a215b62a028f",
        "deepnote_cell_type": "code"
      },
      "source": "tfidf_matrix.shape",
      "block_group": "4d940e3ddb634fe2b0af9cfa4a7b1113",
      "execution_count": 6,
      "outputs": [],
      "outputs_reference": null,
      "content_dependencies": null
    },
    {
      "cell_type": "code",
      "metadata": {
        "source_hash": "14ae5247",
        "execution_start": 1751513579415,
        "execution_millis": 0,
        "execution_context_id": "67f62dd4-d2be-4a64-92cf-56d9a31ee3d2",
        "cell_id": "d00540a9aa664fa29f3f876de3f8a7f1",
        "deepnote_cell_type": "code"
      },
      "source": "from sklearn.metrics.pairwise import linear_kernel\nsimilarity_matrix = linear_kernel(tfidf_matrix, tfidf_matrix)\n\n# cosine_sim\n\n# cosine_sim.shape",
      "block_group": "ac42898619b74d7c8c3bb29f59bce4fe",
      "execution_count": 7,
      "outputs": [],
      "outputs_reference": null,
      "content_dependencies": null
    },
    {
      "cell_type": "code",
      "metadata": {
        "source_hash": "4713aa2d",
        "execution_start": 1751513579474,
        "execution_millis": 1,
        "execution_context_id": "67f62dd4-d2be-4a64-92cf-56d9a31ee3d2",
        "cell_id": "e82085228e1e42729a7612b669626285",
        "deepnote_cell_type": "code"
      },
      "source": "similarity_matrix",
      "block_group": "c32e8f0dc9a949d680acb9124fe8c9dd",
      "execution_count": 8,
      "outputs": [],
      "outputs_reference": null,
      "content_dependencies": null
    },
    {
      "cell_type": "code",
      "metadata": {
        "source_hash": "ee6eaa4e",
        "execution_start": 1751513579525,
        "execution_millis": 1,
        "execution_context_id": "67f62dd4-d2be-4a64-92cf-56d9a31ee3d2",
        "cell_id": "15d0c7d855524fe4b7e236a7f100308d",
        "deepnote_cell_type": "code"
      },
      "source": "similarity_matrix[1]",
      "block_group": "bffaaa934bb54b889fe273540a623e0e",
      "execution_count": 9,
      "outputs": [],
      "outputs_reference": null,
      "content_dependencies": null
    },
    {
      "cell_type": "markdown",
      "metadata": {
        "formattedRanges": [],
        "cell_id": "134dedd91f4740e2914195dd1ef0d57a",
        "deepnote_cell_type": "text-cell-h3"
      },
      "source": "### Find the most similar movie to the selected one",
      "block_group": "b3513d7aa81d4acfac9e84205ac51895"
    },
    {
      "cell_type": "code",
      "metadata": {
        "source_hash": "4577280e",
        "execution_start": 1751513579574,
        "execution_millis": 1,
        "execution_context_id": "67f62dd4-d2be-4a64-92cf-56d9a31ee3d2",
        "cell_id": "db76e498e62748df8517bc34e45ec982",
        "deepnote_cell_type": "code"
      },
      "source": "movie_title = \"John Carter\"",
      "block_group": "f4dfed5e1d0c412aa32862bf6dc81ccc",
      "execution_count": 10,
      "outputs": [],
      "outputs_reference": null,
      "content_dependencies": null
    },
    {
      "cell_type": "code",
      "metadata": {
        "source_hash": "e7632be7",
        "execution_start": 1751513789124,
        "execution_millis": 1,
        "execution_context_id": "67f62dd4-d2be-4a64-92cf-56d9a31ee3d2",
        "cell_id": "aefc1656f727496baf0d1aca2634e0d5",
        "deepnote_cell_type": "code"
      },
      "source": "idx = movies.loc[movies['title'] == movie_title].index[0]\nidx",
      "block_group": "415ec2f4170148c38e68ec76d805bd1e",
      "execution_count": 18,
      "outputs": [],
      "outputs_reference": null,
      "content_dependencies": null
    },
    {
      "cell_type": "code",
      "metadata": {
        "source_hash": "e8ff8e50",
        "execution_start": 1751514101205,
        "execution_millis": 0,
        "execution_context_id": "67f62dd4-d2be-4a64-92cf-56d9a31ee3d2",
        "cell_id": "34fc268003724f7ba7b96ab991081bf9",
        "deepnote_cell_type": "code"
      },
      "source": "scores = list(enumerate(similarity_matrix[idx]))\nscores",
      "block_group": "f691974e50b441abb62ded6f6a7a8216",
      "execution_count": 24,
      "outputs": [],
      "outputs_reference": null,
      "content_dependencies": null
    },
    {
      "cell_type": "code",
      "metadata": {
        "source_hash": "18164a6e",
        "execution_start": 1751514411151,
        "execution_millis": 0,
        "execution_context_id": "67f62dd4-d2be-4a64-92cf-56d9a31ee3d2",
        "cell_id": "a9eee9a588244eec8d17f8f10404a7a3",
        "deepnote_cell_type": "code"
      },
      "source": "scores = sorted(scores, key=lambda x: x[1], reverse=True)",
      "block_group": "b6d0aa2b9b864b29b1f83b4b7e2412db",
      "execution_count": 33,
      "outputs": [],
      "outputs_reference": null,
      "content_dependencies": null
    },
    {
      "cell_type": "code",
      "metadata": {
        "source_hash": "f103f7e6",
        "execution_start": 1751515317324,
        "execution_millis": 1,
        "execution_context_id": "67f62dd4-d2be-4a64-92cf-56d9a31ee3d2",
        "cell_id": "5320476058d34f8b90e514ac7f125b9d",
        "deepnote_cell_type": "code"
      },
      "source": "movie_indices = [tlp[0] for tlp in scores[1:4]]\nmovie_indices",
      "block_group": "a31645a9c8e54b369c43d49c67e3972f",
      "execution_count": 36,
      "outputs": [],
      "outputs_reference": null,
      "content_dependencies": null
    },
    {
      "cell_type": "code",
      "metadata": {
        "source_hash": "18b9a171",
        "execution_start": 1751515469124,
        "execution_millis": 1,
        "execution_context_id": "67f62dd4-d2be-4a64-92cf-56d9a31ee3d2",
        "cell_id": "191d51d508224f30af665f6293188b02",
        "deepnote_cell_type": "code"
      },
      "source": "movies[\"title\"].iloc[movie_indices]",
      "block_group": "a01be9ee62db4abea4dfca29947b760f",
      "execution_count": 45,
      "outputs": [],
      "outputs_reference": null,
      "content_dependencies": null
    },
    {
      "cell_type": "code",
      "metadata": {
        "source_hash": "56de04c1",
        "execution_start": 1751516076005,
        "execution_millis": 0,
        "execution_context_id": "67f62dd4-d2be-4a64-92cf-56d9a31ee3d2",
        "cell_id": "901183949b8149b7b80f316585653951",
        "deepnote_cell_type": "code"
      },
      "source": "def similar_movies(movie_title, nr_movies):\n    idx = movies.loc[movies['title'] == movie_title].index[0]\n    scores = list(enumerate(similarity_matrix[idx]))\n    scores = sorted(scores, key=lambda x: x[1], reverse=True)\n    movies_indices = [tpl[0] for tpl in scores[1:nr_movies+1]]\n    similar_titles = list(movies[\"title\"].iloc[movies_indices])\n    return similar_titles",
      "block_group": "0653375f6331461ebdc554a06837ec24",
      "execution_count": 66,
      "outputs": [],
      "outputs_reference": null,
      "content_dependencies": null
    },
    {
      "cell_type": "code",
      "metadata": {
        "source_hash": "e1a480b5",
        "execution_start": 1751516077805,
        "execution_millis": 1,
        "execution_context_id": "67f62dd4-d2be-4a64-92cf-56d9a31ee3d2",
        "cell_id": "67a2c71f475044f0aa54a0f373ec4503",
        "deepnote_cell_type": "code"
      },
      "source": "similar_movies(\"John Carter\", 3)",
      "block_group": "8e2e1d9b7ae84f8f8164f68a79640757",
      "execution_count": 69,
      "outputs": [],
      "outputs_reference": null,
      "content_dependencies": null
    },
    {
      "cell_type": "code",
      "metadata": {
        "cell_id": "a16c783137734e55831ef0a60700498b",
        "deepnote_cell_type": "code"
      },
      "source": "",
      "block_group": "416cf6429b3b4ba0afde5ee37d79ef69",
      "execution_count": null,
      "outputs": [],
      "outputs_reference": null,
      "content_dependencies": null
    },
    {
      "cell_type": "markdown",
      "source": "<a style='text-decoration:none;line-height:16px;display:flex;color:#5B5B62;padding:10px;justify-content:end;' href='https://deepnote.com?utm_source=created-in-deepnote-cell&projectId=ad33e2a3-1536-4aea-922f-d6c95bf3f18a' target=\"_blank\">\n<img alt='Created in deepnote.com' style='display:inline;max-height:16px;margin:0px;margin-right:7.5px;' src='data:image/svg+xml;base64,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' > </img>\nCreated in <span style='font-weight:600;margin-left:4px;'>Deepnote</span></a>",
      "metadata": {
        "created_in_deepnote_cell": true,
        "deepnote_cell_type": "markdown"
      }
    }
  ],
  "nbformat": 4,
  "nbformat_minor": 0,
  "metadata": {
    "deepnote_persisted_session": {
      "createdAt": "2025-07-03T04:33:25.651Z"
    },
    "deepnote_notebook_id": "ed20b1671e28429eab9fc2fbf22e4ecd"
  }
}