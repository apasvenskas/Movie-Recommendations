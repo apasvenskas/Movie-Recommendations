{
  "cells": [
    {
      "cell_type": "markdown",
      "metadata": {
        "formattedRanges": [],
        "cell_id": "53a29b9e0f464d4f924c67793e0b480d",
        "deepnote_cell_type": "text-cell-h2"
      },
      "source": "## Popularity-Based-filtering",
      "block_group": "d8b799d12f3c446083b1d779765fb609"
    },
    {
      "cell_type": "markdown",
      "metadata": {
        "formattedRanges": [],
        "cell_id": "b3cabc78bc7c40ac9a3c465857e912e6",
        "deepnote_cell_type": "text-cell-h3"
      },
      "source": "### Load data",
      "block_group": "11e1e3d549d84ea0bfd694dbbf98b829"
    },
    {
      "cell_type": "code",
      "metadata": {
        "source_hash": "8b1baab7",
        "execution_start": 1751407862114,
        "execution_millis": 841,
        "execution_context_id": "5753ed68-4a44-4a96-baed-767d284ffc9d",
        "cell_id": "d8b799d12f3c446083b1d779765fb609",
        "deepnote_cell_type": "code"
      },
      "source": "import pandas \n\nmovies = pandas.read_csv(\"movies.csv\")\ncredits = pandas.read_csv(\"credits.csv\")\nratings = pandas.read_csv(\"ratings.csv\")",
      "block_group": "7b3c7efcab7c402e83d5a371f0ca08f6",
      "execution_count": 39,
      "outputs": [],
      "outputs_reference": null,
      "content_dependencies": null
    },
    {
      "cell_type": "code",
      "metadata": {
        "source_hash": "9e7da4d7",
        "execution_start": 1751407864684,
        "execution_millis": 24,
        "execution_context_id": "5753ed68-4a44-4a96-baed-767d284ffc9d",
        "cell_id": "3a2c29ecb89b4a04a33b29b1102093a8",
        "deepnote_cell_type": "code"
      },
      "source": "movies.head()\n",
      "block_group": "da710e0f8c4747afaeebe9dcac1967f5",
      "execution_count": 42,
      "outputs": [],
      "outputs_reference": null,
      "content_dependencies": null
    },
    {
      "cell_type": "code",
      "metadata": {
        "source_hash": "3fbc8911",
        "execution_start": 1751407864763,
        "execution_millis": 2,
        "execution_context_id": "5753ed68-4a44-4a96-baed-767d284ffc9d",
        "cell_id": "6f0ec7f0931240539163031a0db872a6",
        "deepnote_cell_type": "code"
      },
      "source": "credits.head()",
      "block_group": "bf5d3d7b023a4eb88ca62f4e7f6195e0",
      "execution_count": 43,
      "outputs": [],
      "outputs_reference": null,
      "content_dependencies": null
    },
    {
      "cell_type": "code",
      "metadata": {
        "source_hash": "4cb0f271",
        "execution_start": 1751407864823,
        "execution_millis": 0,
        "execution_context_id": "5753ed68-4a44-4a96-baed-767d284ffc9d",
        "cell_id": "5df51b778162491e95b69ebe330eab7f",
        "deepnote_cell_type": "code"
      },
      "source": "ratings.head()",
      "block_group": "340f44cc4917452b9061547ffe279b3a",
      "execution_count": 44,
      "outputs": [],
      "outputs_reference": null,
      "content_dependencies": null
    },
    {
      "cell_type": "markdown",
      "metadata": {
        "formattedRanges": [],
        "cell_id": "7651426b960540299379cf92a676cc39",
        "deepnote_cell_type": "text-cell-h3"
      },
      "source": "### Calculate a weighted rating",
      "block_group": "c8f9a6cd6277473686de947b04f3c7d5"
    },
    {
      "cell_type": "markdown",
      "metadata": {
        "formattedRanges": [],
        "cell_id": "9296723c643347f3a61fe38cc0604d4f",
        "deepnote_cell_type": "text-cell-p"
      },
      "source": "WR = (v /(v+m)) * R + (m + (v+m)) * C",
      "block_group": "55707989743f43bfb192137095c137b2"
    },
    {
      "cell_type": "markdown",
      "metadata": {
        "formattedRanges": [],
        "cell_id": "b4e6fd70e356449c984026736cd252a8",
        "deepnote_cell_type": "text-cell-p"
      },
      "source": "",
      "block_group": "1a233f056bed434492500519995e174f"
    },
    {
      "cell_type": "markdown",
      "metadata": {
        "formattedRanges": [],
        "cell_id": "4f7a0e64a82845fa97f837f7686bc0ff",
        "deepnote_cell_type": "text-cell-p"
      },
      "source": "v: number of votes for a movie.",
      "block_group": "68c8e856f779470b99c11b8e460ea7a1"
    },
    {
      "cell_type": "markdown",
      "metadata": {
        "formattedRanges": [],
        "cell_id": "7fe818b8a34b4b8d8e49ad61c22d1d99",
        "deepnote_cell_type": "text-cell-p"
      },
      "source": "m: min number of votes required.",
      "block_group": "10fcb5b993b34616998f9f4c1827c1be"
    },
    {
      "cell_type": "markdown",
      "metadata": {
        "formattedRanges": [],
        "cell_id": "85d20e906a4c45f8bf5f06f612f52b15",
        "deepnote_cell_type": "text-cell-p"
      },
      "source": "R: average rating of a movie.",
      "block_group": "a225424f8dc54859a7feaf1d0bc6dea8"
    },
    {
      "cell_type": "markdown",
      "metadata": {
        "formattedRanges": [],
        "cell_id": "f8159905a80141b89251af2731d23a1d",
        "deepnote_cell_type": "text-cell-p"
      },
      "source": "c: average rating across all movies",
      "block_group": "4b416246aa1c416f98749d13faaec505"
    },
    {
      "cell_type": "markdown",
      "metadata": {
        "formattedRanges": [],
        "cell_id": "b1fe2f1b99d5412f925d503bf2022430",
        "deepnote_cell_type": "text-cell-p"
      },
      "source": "",
      "block_group": "8f4ed14f0c6541fe947334ae6c00a517"
    },
    {
      "cell_type": "code",
      "metadata": {
        "source_hash": "3f1218a7",
        "execution_start": 1751407870533,
        "execution_millis": 0,
        "execution_context_id": "5753ed68-4a44-4a96-baed-767d284ffc9d",
        "cell_id": "def0c665ed2742b48e0bab52460713f9",
        "deepnote_cell_type": "code"
      },
      "source": "m = movies[\"vote_count\"].quantile(0.9)\n",
      "block_group": "7355ea41c0d744e5a9ae25a608ec1313",
      "execution_count": 47,
      "outputs": [],
      "outputs_reference": null,
      "content_dependencies": null
    },
    {
      "cell_type": "code",
      "metadata": {
        "source_hash": "e4357130",
        "execution_start": 1751407872274,
        "execution_millis": 1,
        "execution_context_id": "5753ed68-4a44-4a96-baed-767d284ffc9d",
        "cell_id": "18ed364027ea4fddb06e6881d1d6ca2c",
        "deepnote_cell_type": "code"
      },
      "source": "C = movies[\"vote_average\"].mean()\nC",
      "block_group": "8513b10591a940b1aafe438e7fc237cb",
      "execution_count": 50,
      "outputs": [],
      "outputs_reference": null,
      "content_dependencies": null
    },
    {
      "cell_type": "code",
      "metadata": {
        "source_hash": "a16f032e",
        "execution_start": 1751407874174,
        "execution_millis": 53,
        "execution_context_id": "5753ed68-4a44-4a96-baed-767d284ffc9d",
        "cell_id": "f49951c2ade44d3c9217118071888c9b",
        "deepnote_cell_type": "code"
      },
      "source": "movies_filtered = movies.copy().loc[movies[\"vote_count\"] >= m]\nmovies_filtered",
      "block_group": "45a95469d15a4bc0a4003668dc089b26",
      "execution_count": 53,
      "outputs": [],
      "outputs_reference": null,
      "content_dependencies": null
    },
    {
      "cell_type": "code",
      "metadata": {
        "source_hash": "85e95f6e",
        "execution_start": 1751407875788,
        "execution_millis": 1,
        "execution_context_id": "5753ed68-4a44-4a96-baed-767d284ffc9d",
        "cell_id": "bc27a8da21524d06822519649a5a6d94",
        "deepnote_cell_type": "code"
      },
      "source": "def weighted_rating(df, m=m, C=C):\n    R = df[\"vote_average\"]\n    V = df[\"vote_count\"]\n    wr = ((V / v+m) * R) + ((m + (v+m)) * C)\n    return wr",
      "block_group": "2868de71b5ef4880a034ff79b228ab67",
      "execution_count": 56,
      "outputs": [],
      "outputs_reference": null,
      "content_dependencies": null
    },
    {
      "cell_type": "code",
      "metadata": {
        "source_hash": "c30050e3",
        "execution_start": 1751408021641,
        "execution_millis": 2,
        "execution_context_id": "5753ed68-4a44-4a96-baed-767d284ffc9d",
        "cell_id": "42837aebcb7c4ad3b8c6e1fb131accde",
        "deepnote_cell_type": "code"
      },
      "source": "def weighted_rating(df, m=m, C=C):\n    R = df[\"vote_average\"]  # Average rating of the movie\n    V = df[\"vote_count\"]    # Number of votes for the movie\n    wr = ((V / (V + m)) * R) + ((m / (V + m)) * C)  # Weighted rating formula\n    return wr\n\nmovies_filtered[\"weighted_rating\"] = movies_filtered.apply(weighted_rating, axis=1)\nmovies_filtered",
      "block_group": "dc84ac641b8f4827a2f967296129c7cc",
      "execution_count": 65,
      "outputs": [],
      "outputs_reference": null,
      "content_dependencies": null
    },
    {
      "cell_type": "code",
      "metadata": {
        "source_hash": "5222a5d7",
        "execution_start": 1751408453943,
        "execution_millis": 1,
        "execution_context_id": "5753ed68-4a44-4a96-baed-767d284ffc9d",
        "cell_id": "8ebcfb0047a946e3b087bbb767aa5f5a",
        "deepnote_cell_type": "code"
      },
      "source": "movies_filtered.sort_values(\"weighted_rating\", ascending=False)[[\"title\", \"weighted_rating\"]].head(10)",
      "block_group": "c7d80555e5d840e79f64da7430d33169",
      "execution_count": 74,
      "outputs": [],
      "outputs_reference": null,
      "content_dependencies": null
    },
    {
      "cell_type": "markdown",
      "source": "<a style='text-decoration:none;line-height:16px;display:flex;color:#5B5B62;padding:10px;justify-content:end;' href='https://deepnote.com?utm_source=created-in-deepnote-cell&projectId=ad33e2a3-1536-4aea-922f-d6c95bf3f18a' target=\"_blank\">\n<img alt='Created in deepnote.com' style='display:inline;max-height:16px;margin:0px;margin-right:7.5px;' src='data:image/svg+xml;base64,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' > </img>\nCreated in <span style='font-weight:600;margin-left:4px;'>Deepnote</span></a>",
      "metadata": {
        "created_in_deepnote_cell": true,
        "deepnote_cell_type": "markdown"
      }
    }
  ],
  "nbformat": 4,
  "nbformat_minor": 0,
  "metadata": {
    "deepnote_persisted_session": {
      "createdAt": "2025-07-01T20:11:58.247Z"
    },
    "deepnote_notebook_id": "78c41ae874974494948c2ae846ec0f9d"
  }
}