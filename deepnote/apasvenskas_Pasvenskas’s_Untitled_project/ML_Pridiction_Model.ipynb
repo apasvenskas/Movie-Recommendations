{
  "cells": [
    {
      "cell_type": "markdown",
      "metadata": {
        "formattedRanges": [],
        "cell_id": "0e97af7d22064e6cb96f181e277952e0",
        "deepnote_cell_type": "text-cell-p"
      },
      "source": "",
      "block_group": "b1cacf92cf9d4086ba94ca27e3404928"
    },
    {
      "cell_type": "markdown",
      "metadata": {
        "formattedRanges": [],
        "cell_id": "5f5a25628c84441abb133fe957debc6b",
        "deepnote_cell_type": "text-cell-h1"
      },
      "source": "# Collaborative Based Filtering",
      "block_group": "47eb3dc0a91e44e893f30c970a8e95b9"
    },
    {
      "cell_type": "code",
      "metadata": {
        "source_hash": "3db0b6b7",
        "execution_start": 1751686940686,
        "execution_millis": 337,
        "execution_context_id": "22bd5bab-a28e-498d-a68f-155022c59136",
        "cell_id": "5f40543c53604c3684986e0d4780af33",
        "deepnote_cell_type": "code"
      },
      "source": "import pandas\nratings = pandas.read_csv('ratings.csv')[['userId', 'movieId', 'rating']]\nratings.head()",
      "block_group": "64078a77bbc049d6b0a0eec971698bf5",
      "execution_count": 1,
      "outputs": [],
      "outputs_reference": null,
      "content_dependencies": null
    },
    {
      "cell_type": "markdown",
      "metadata": {
        "formattedRanges": [],
        "cell_id": "27ff3613697c46ea9b619f2ade3df07f",
        "deepnote_cell_type": "text-cell-h3"
      },
      "source": "### Create Dataset",
      "block_group": "9e0d86c6efb04655aaaaa814dba4d888"
    },
    {
      "cell_type": "code",
      "metadata": {
        "source_hash": "4bc937ac",
        "execution_start": 1751686941076,
        "execution_millis": 4223,
        "execution_context_id": "22bd5bab-a28e-498d-a68f-155022c59136",
        "cell_id": "8c1d319166554d6d8d17548819072aaa",
        "deepnote_cell_type": "code"
      },
      "source": "pip install --upgrade pip",
      "block_group": "03ab8447fca94a41a59f2033815ee511",
      "execution_count": 2,
      "outputs": [],
      "outputs_reference": null,
      "content_dependencies": null
    },
    {
      "cell_type": "code",
      "metadata": {
        "source_hash": "efe1d3f7",
        "execution_start": 1751686945346,
        "execution_millis": 1272,
        "sql_integration_id": "",
        "execution_context_id": "22bd5bab-a28e-498d-a68f-155022c59136",
        "deepnote_variable_name": "",
        "cell_id": "b48468a7a0194e11a0f9e940f94788cc",
        "deepnote_cell_type": "code"
      },
      "source": "!pip install scikit-surprise",
      "block_group": "d7da808475374c2fa586154a121fcf5e",
      "execution_count": 3,
      "outputs": [],
      "outputs_reference": null,
      "content_dependencies": null
    },
    {
      "cell_type": "markdown",
      "metadata": {
        "cell_id": "789ea49b425d4560bfe64ffa97f10455",
        "deepnote_cell_type": "text-cell-p"
      },
      "source": "The `scikit-surprise` library has been successfully installed. Let me know if you'd like to proceed with collaborative filtering or any other task.",
      "block_group": "89757a27921346aa810cd7078464ab9c"
    },
    {
      "cell_type": "code",
      "metadata": {
        "source_hash": "ae9dd196",
        "execution_start": 1751686946676,
        "execution_millis": 140,
        "execution_context_id": "22bd5bab-a28e-498d-a68f-155022c59136",
        "cell_id": "76ce693741cd4fafbbc289e3aef3a1ae",
        "deepnote_cell_type": "code"
      },
      "source": "from surprise import Dataset, Reader\n\nreader = Reader(rating_scale=(1, 5))\ndataset = Dataset.load_from_df(ratings, reader)\ndataset",
      "block_group": "233b9dec77104981bb752a6427ac2113",
      "execution_count": 4,
      "outputs": [],
      "outputs_reference": null,
      "content_dependencies": null
    },
    {
      "cell_type": "markdown",
      "metadata": {
        "formattedRanges": [],
        "cell_id": "9af08f001ad94a5b938c85ecd4250850",
        "deepnote_cell_type": "text-cell-h3"
      },
      "source": "### Training Set",
      "block_group": "103d45d0be334051b0d4446a5449ad6f"
    },
    {
      "cell_type": "code",
      "metadata": {
        "source_hash": "622029c6",
        "execution_start": 1751686946867,
        "execution_millis": 24,
        "execution_context_id": "22bd5bab-a28e-498d-a68f-155022c59136",
        "cell_id": "8af7de7541894a7a804f85418f39f0ed",
        "deepnote_cell_type": "code"
      },
      "source": "trainingSet = dataset.build_full_trainset()\ntrainingSet",
      "block_group": "f3a26de018d0475383c081351d9f3a96",
      "execution_count": 5,
      "outputs": [],
      "outputs_reference": null,
      "content_dependencies": null
    },
    {
      "cell_type": "code",
      "metadata": {
        "source_hash": "d0e4e6fa",
        "execution_start": 1751686946936,
        "execution_millis": 14,
        "execution_context_id": "22bd5bab-a28e-498d-a68f-155022c59136",
        "cell_id": "d22cd235d27941dfa6e1798060081809",
        "deepnote_cell_type": "code"
      },
      "source": "list(trainingSet.all_ratings())",
      "block_group": "1dbbb0d22c464d10bbf4e69821a18ca3",
      "execution_count": 6,
      "outputs": [],
      "outputs_reference": null,
      "content_dependencies": null
    },
    {
      "cell_type": "markdown",
      "metadata": {
        "formattedRanges": [],
        "cell_id": "e1a3eecf7220413aada0ed9952bc3bf3",
        "deepnote_cell_type": "text-cell-h3"
      },
      "source": "### Train The Model",
      "block_group": "35afdb732fc1439a8d00d44c44949b34"
    },
    {
      "cell_type": "code",
      "metadata": {
        "source_hash": "b3ebedf9",
        "execution_start": 1751686946997,
        "execution_millis": 0,
        "execution_context_id": "22bd5bab-a28e-498d-a68f-155022c59136",
        "cell_id": "a6575ea3f73b48499b2ecb15e32ab232",
        "deepnote_cell_type": "code"
      },
      "source": "from surprise import SVD\n\nsvd = SVD()",
      "block_group": "14c4d4652f95412baffc4580b97d2f82",
      "execution_count": 7,
      "outputs": [],
      "outputs_reference": null,
      "content_dependencies": null
    },
    {
      "cell_type": "code",
      "metadata": {
        "source_hash": "de400b38",
        "execution_start": 1751687461326,
        "execution_millis": 679,
        "execution_context_id": "22bd5bab-a28e-498d-a68f-155022c59136",
        "cell_id": "d4da8cba016a44fe962b8f5be222aada",
        "deepnote_cell_type": "code"
      },
      "source": "svd.fit(trainingSet)",
      "block_group": "8e5e26c91400434395899cc7b7d29c76",
      "execution_count": 11,
      "outputs": [],
      "outputs_reference": null,
      "content_dependencies": null
    },
    {
      "cell_type": "code",
      "metadata": {
        "source_hash": "730ae6be",
        "execution_start": 1751687898586,
        "execution_millis": 1,
        "execution_context_id": "22bd5bab-a28e-498d-a68f-155022c59136",
        "cell_id": "78072d5952b94eb39d688aece946a903",
        "deepnote_cell_type": "code"
      },
      "source": "svd.predict(15, 1956)",
      "block_group": "6411f1e25fa24d8a908aa577e0dd62a9",
      "execution_count": 20,
      "outputs": [],
      "outputs_reference": null,
      "content_dependencies": null
    },
    {
      "cell_type": "markdown",
      "metadata": {
        "formattedRanges": [],
        "cell_id": "23f345215fc74595a708f69ce451cd93",
        "deepnote_cell_type": "text-cell-h3"
      },
      "source": "### Validation ",
      "block_group": "8972758a89524ac4b4892264e3bf06d3"
    },
    {
      "cell_type": "code",
      "metadata": {
        "source_hash": "9eb3ab34",
        "execution_start": 1751688116646,
        "execution_millis": 0,
        "execution_context_id": "22bd5bab-a28e-498d-a68f-155022c59136",
        "cell_id": "837d04f29c304e44b620deb0f9e6b78e",
        "deepnote_cell_type": "code"
      },
      "source": "from surprise import model_selection",
      "block_group": "49db60334a524628a0f99dc43ce16af4",
      "execution_count": 23,
      "outputs": [],
      "outputs_reference": null,
      "content_dependencies": null
    },
    {
      "cell_type": "code",
      "metadata": {
        "source_hash": "62ad60e3",
        "execution_start": 1751688755026,
        "execution_millis": 6457,
        "execution_context_id": "22bd5bab-a28e-498d-a68f-155022c59136",
        "cell_id": "94297343f0f24ed1b05c61c15231b65b",
        "deepnote_cell_type": "code"
      },
      "source": "from surprise import model_selection\n\nmodel_selection.cross_validate(svd, dataset, measures=[\"RMSE\", \"MAE\"])",
      "block_group": "2a77133822bc42388d3046bfbe455491",
      "execution_count": 29,
      "outputs": [],
      "outputs_reference": null,
      "content_dependencies": null
    },
    {
      "cell_type": "code",
      "metadata": {
        "cell_id": "fef8adb06e274ab4a8a2e87fadd44542",
        "deepnote_cell_type": "code"
      },
      "source": "",
      "block_group": "1c85f8b8223c4959bd4829953f5ff688",
      "execution_count": null,
      "outputs": [],
      "outputs_reference": null,
      "content_dependencies": null
    },
    {
      "cell_type": "markdown",
      "source": "<a style='text-decoration:none;line-height:16px;display:flex;color:#5B5B62;padding:10px;justify-content:end;' href='https://deepnote.com?utm_source=created-in-deepnote-cell&projectId=ad33e2a3-1536-4aea-922f-d6c95bf3f18a' target=\"_blank\">\n<img alt='Created in deepnote.com' style='display:inline;max-height:16px;margin:0px;margin-right:7.5px;' src='data:image/svg+xml;base64,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' > </img>\nCreated in <span style='font-weight:600;margin-left:4px;'>Deepnote</span></a>",
      "metadata": {
        "created_in_deepnote_cell": true,
        "deepnote_cell_type": "markdown"
      }
    }
  ],
  "nbformat": 4,
  "nbformat_minor": 0,
  "metadata": {
    "deepnote_persisted_session": {
      "createdAt": "2025-07-05T03:33:18.710Z"
    },
    "deepnote_notebook_id": "3ec315fac273403898128a534714a0a6"
  }
}